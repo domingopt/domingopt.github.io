{
 "cells": [
  {
   "cell_type": "markdown",
   "id": "e0e24009",
   "metadata": {},
   "source": [
    "# First steps with TensorFlow\n",
    "\n",
    "After spending longer than expected getting TensorFlow to work on my new M1 MacBook Air (I will add some pointers if someone is really interested in saving 8h of his/her life...) I have started the first post on the first steps using TensorFlow (remember that first post... sigh!).\n",
    "\n",
    "The goal for this first one is to get familiar with the basic methods to define, train and test any deep learning architecture. The main 5 steps in any model life-cycle will be presented using some fairly common problems to introduce the main concepts:\n",
    "1. **Prediction problem:** House prices (starting with some very unrealistic prices)\n",
    "1. **Classification problem:** MNIST classification\n",
    "\n",
    "Finally and as part of those, we will have a deeper look into chosing an optimal number of epochs (loops through the training set), batch size (number of samples in epoch for the loss estimation) and the use of callbacks to early stop training to gain time and avoid overfitting.\n",
    "\n",
    "Remember that neural networks are very sensitive to the amount of data used for training them; too little and they will underfit, too much of it and they will overfit the data.\n",
    "\n",
    "Are you ready? Let's dive in!"
   ]
  },
  {
   "cell_type": "markdown",
   "id": "27af8ba7",
   "metadata": {},
   "source": [
    "## The 5-step Model Life-Cycle\n",
    "\n",
    "A model has a life-cycle and this provides the backbone for modelling a data-set and understanding the tf.keras API.\n",
    "\n",
    "The 5 steps are:\n",
    "1. Defining the model\n",
    "1. Compiling the model\n",
    "1. Fitting the model\n",
    "1. Evaluating the model\n",
    "1. Making predictions\n",
    "\n",
    "\n",
    "### 1. Defining the model\n",
    "Defining the model requires picking the type of model to use, then choose the architecture or network topology.\n",
    "\n",
    "From an API perspective, this requires defining the layers of the model, configuring each layer with a number of nodes and activation functions and connecting the layers together into a cohesive model.\n",
    "\n",
    "Models can be defined with either the Sequential or Functional APIs.\n",
    "\n",
    "### 2. Compiling the model\n",
    "Compiling the model requires that you choose the loss function you want to optimize, such as mean squared error or cross-entropy.\n",
    "\n",
    "It also requires to chose the algorithm to be used to perform the optimization procedure, in general stochastic gradient descent (SGD) or a modern variation, Adam. It might also require for us to define the performance metrics to track during the model training process.\n",
    "\n",
    "For a list of supported optmizers, see this:\n",
    "* [tf.keras Optimizers](https://www.tensorflow.org/api_docs/python/tf/keras/optimizers)\n",
    "\n",
    "```python\n",
    "# compile the model\n",
    "opt = SGC(learning_rate=0.01, momentum=0.9)\n",
    "model.compile(optimizer=opt, loss='binary_crossentropy')\n",
    "```\n",
    "\n",
    "The three most common loss functions are:\n",
    "* *'binary_crossentropy'* for binary classification.\n",
    "* *'sparse_categorical_crossentropy'* for multi-class classification.\n",
    "* *'mse'* (mean squared error) for regression.\n",
    "\n",
    "```python\n",
    "# compile the model\n",
    "model.compile(optimizer='sgd', loss='mse')\n",
    "```\n",
    "\n",
    "For a list of supported optmizers, see this:\n",
    "* [tf.keras Loss Functions](https://www.tensorflow.org/api_docs/python/tf/keras/losses)\n",
    "Metrics are defined as a list of strings for known metric functions or a list of functions to call to evaluate predictions.\n",
    "\n",
    "For a list of all supported metrics:\n",
    "* [tf.keras Metrics](https://www.tensorflow.org/api_docs/python/tf/keras/metrics)\n",
    "\n",
    "```python\n",
    "# compile the model\n",
    "model.compile(optimizer='sgd', loss='binary_accuracy', metrics=['accuracy'])\n",
    "```\n",
    "\n",
    "### 3. Fitting the model\n",
    "Fitting the model requires to select the training configuration, such as the number of epochs (loops through the training set) and the batch size (number of samples in an epoch used to estimate model error).\n",
    "\n",
    "Training applies the chosen optimization algorithm to minimise the chosen loss function and updates the model using the [backpropagation of error algorithm](https://en.wikipedia.org/wiki/Backpropagation).\n",
    "\n",
    "Fitting the model is the slow part of the whole process.\n",
    "\n",
    "```python\n",
    "...\n",
    "# fit the model\n",
    "model.fit(X, y, epochs=100, batch_size=32)\n",
    "```\n",
    "\n",
    "### 4. Evaluating the model\n",
    "To evaluate the model performance, we first need to have reserved some data that is not to be used in training the model, to get an estimate of the model performance in real-ife circumstances and we will assess the MAE, accuracy, or whatever other metric we are trying to optimise for.\n",
    "\n",
    "```python\n",
    "...\n",
    "# evaluate the model\n",
    "loss = model.evaluate(X, y, verbose=0)\n",
    "```\n",
    "\n",
    "### 5. Making a Prediction\n",
    "Making a preduction is the final step in the life-cycle and, put simple, it is the reason why we wanted the model in the first place.\n",
    "\n",
    "```python\n",
    "...\n",
    "# make a prediction\n",
    "yhat = model.predict(X)\n",
    "```\n",
    "\n",
    "### Final note: Sequential model API or Functional Model API\n",
    "\n",
    "#### Sequential Model API (Simple)\n",
    "Recommended when starting. It essentially involves adding layers to a Sequential class, from input to output. One thing to note is that shape of the input layer is defined in the first hidden (or output?) layer.\n",
    "\n",
    "```python\n",
    "# example of a model defined using the sequential API\n",
    "from tensorflow.keras import Sequential\n",
    "from tensorflow.keras.layers import Dense\n",
    "# define the model\n",
    "model = Sequential()\n",
    "model.add(Dense(10, input_shape=(8,)))\n",
    "model.add(Dense(1))\n",
    "```\n",
    "\n",
    "For a more complex model with more hidden layers, one would just need to add more Dense layers to the model.\n",
    "\n",
    "#### Functional Model API (Advanced)\n",
    "Interesting from a flexibility perspective. It involves connecting the output of one layer into the input of another one. Each connection is specified.\n",
    "\n",
    "```python\n",
    "# define the model, starting with the layers\n",
    "x_in = Input(shape=(8,))\n",
    "x = Dense(10)(x_in)\n",
    "x_out = Dense(1)(x)\n",
    "# define the model\n",
    "model = Model(inputs=x_in, outputs=x_out)\n",
    "```\n",
    "\n"
   ]
  },
  {
   "cell_type": "markdown",
   "id": "482d831e",
   "metadata": {},
   "source": [
    "## Example 1: Predicting house prices with TensorFlow\n",
    "\n",
    "Let's imagine we leave in a city where the only factor determining the price of a house is the number of rooms in that particular house (but we don't a priori know that!). We will collect available data for houses for sale, where the only feature is the number of rooms and then the price for that house. It is surely a bit over the top, but... could a simple neural network (in reality, just a single neuron!) be able to accurate predict house prices?\n",
    "\n",
    "This is obviously a very simplistic example, but it is a great one to showcase the 5-step model life-cycle concepts that we will use with more complex problems."
   ]
  },
  {
   "cell_type": "code",
   "execution_count": 164,
   "id": "a824eb92",
   "metadata": {},
   "outputs": [],
   "source": [
    "import tensorflow as tf\n",
    "from tensorflow.keras import Sequential\n",
    "from tensorflow.keras.layers import Dense\n",
    "import numpy as np\n",
    "import matplotlib.pyplot as plt\n",
    "\n",
    "tf.get_logger().setLevel('ERROR')\n",
    "%matplotlib inline"
   ]
  },
  {
   "cell_type": "code",
   "execution_count": 165,
   "id": "80c52db6",
   "metadata": {},
   "outputs": [
    {
     "name": "stdout",
     "output_type": "stream",
     "text": [
      "Rooms vector: [ 1.  2.  3.  4.  5.  6.  7.  8.  9. 10.]\n",
      "Prices vector: [ 55. 105. 155. 205. 255. 305. 355. 405. 455. 505.]\n"
     ]
    }
   ],
   "source": [
    "# Create the artificially simple data\n",
    "xs = np.arange(1, 11, dtype=float)\n",
    "ys = xs * 50 + 5\n",
    "print(f\"Rooms vector: {xs}\\nPrices vector: {ys}\")"
   ]
  },
  {
   "cell_type": "code",
   "execution_count": 166,
   "id": "b27019ff",
   "metadata": {},
   "outputs": [
    {
     "name": "stdout",
     "output_type": "stream",
     "text": [
      "Model: \"sequential_129\"\n",
      "_________________________________________________________________\n",
      "Layer (type)                 Output Shape              Param #   \n",
      "=================================================================\n",
      "dense_228 (Dense)            (None, 1)                 2         \n",
      "=================================================================\n",
      "Total params: 2\n",
      "Trainable params: 2\n",
      "Non-trainable params: 0\n",
      "_________________________________________________________________\n",
      "\n",
      "\n",
      "Model evaluation:\n",
      "mse of 0.0005954486856353469, or using model.evaluate: 0.0005954486550763249\n",
      "\n",
      "\n",
      "\n",
      "Predictions for [7, 8, 12]: [[354.99695]\n",
      " [404.989  ]\n",
      " [604.95734]]\n"
     ]
    }
   ],
   "source": [
    "# Remember the 5 steps?...\n",
    "# Step 1: Define the model\n",
    "model = Sequential(Dense(units=1, input_shape=[1], activation='linear'))\n",
    "model.summary()\n",
    "\n",
    "# Step 2: Compile the model, i.e. what is the loss function (i.e. mse here) and how do we optimise (using sgd)\n",
    "model.compile(optimizer='sgd', loss='mse')\n",
    "\n",
    "# Step 3: Fit the model using some training data, number of epochs and batch sizes\n",
    "model.fit(xs, ys, epochs=400, batch_size=5, verbose=0)\n",
    "\n",
    "# Step 4: Evaluate the model\n",
    "mse = np.average((model.predict(xs).transpose() - ys)**2)\n",
    "loss = model.evaluate(xs, ys, verbose=0)\n",
    "print(f\"\\n\\nModel evaluation:\\nmse of {mse}, or using model.evaluate: {loss}\")\n",
    "\n",
    "# Step 5: Make some predictions!\n",
    "test_data = [7, 8, 12]\n",
    "predictions = model.predict(test_data)\n",
    "print(f\"\\n\\n\\nPredictions for {test_data}: {predictions}\")"
   ]
  },
  {
   "cell_type": "markdown",
   "id": "64354999",
   "metadata": {},
   "source": [
    "### Effect of number of epochs\n"
   ]
  },
  {
   "cell_type": "code",
   "execution_count": 167,
   "id": "01f6f13d",
   "metadata": {
    "scrolled": false
   },
   "outputs": [
    {
     "data": {
      "image/png": "[encoded data removed]",
      "text/plain": [
       "<Figure size 432x288 with 1 Axes>"
      ]
     },
     "metadata": {
      "needs_background": "light"
     },
     "output_type": "display_data"
    }
   ],
   "source": [
    "epoch_vector = []\n",
    "loss_vector = []\n",
    "for epochs_param in np.arange(1, 1000, 5):\n",
    "    model = Sequential(Dense(units=tf.constant(1), input_shape=[tf.constant(1)], activation=\"linear\"))\n",
    "    model.compile(optimizer='sgd', loss='mse')\n",
    "    epoch_vector.append(epochs_param)\n",
    "    fitted_model = model.fit(xs, ys, epochs=tf.constant(epochs_param), verbose=0)\n",
    "    train_loss = model.evaluate(xs, ys, verbose=0)\n",
    "    loss_vector.append(train_loss)\n",
    "\n",
    "plt.plot(epoch_vector, loss_vector)\n",
    "plt.xlabel('Nb of epochs')\n",
    "plt.ylabel('Train loss')\n",
    "plt.title('Loss for different number of epochs')\n",
    "plt.show()"
   ]
  },
  {
   "cell_type": "code",
   "execution_count": 168,
   "id": "0b154154",
   "metadata": {},
   "outputs": [
    {
     "data": {
      "image/png": "[encoded data removed]",
      "text/plain": [
       "<Figure size 432x288 with 1 Axes>"
      ]
     },
     "metadata": {
      "needs_background": "light"
     },
     "output_type": "display_data"
    }
   ],
   "source": [
    "plt.plot(epoch_vector[5:], loss_vector[5:])\n",
    "plt.xlabel('Nb of epochs')\n",
    "plt.ylabel('Train loss')\n",
    "plt.title('Loss for different number of epochs')\n",
    "plt.show()"
   ]
  },
  {
   "cell_type": "code",
   "execution_count": 172,
   "id": "eb982e3e",
   "metadata": {},
   "outputs": [
    {
     "data": {
      "image/png": "[encoded data removed]",
      "text/plain": [
       "<Figure size 432x288 with 1 Axes>"
      ]
     },
     "metadata": {
      "needs_background": "light"
     },
     "output_type": "display_data"
    }
   ],
   "source": [
    "plt.plot(epoch_vector[0:5], loss_vector[0:5])\n",
    "plt.xlabel('Nb of epochs')\n",
    "plt.ylabel('Train loss')\n",
    "plt.title('Loss for different number of epochs')\n",
    "plt.show()"
   ]
  },
  {
   "cell_type": "markdown",
   "id": "8be3db36",
   "metadata": {},
   "source": [
    "### Effect of batch size"
   ]
  },
  {
   "cell_type": "code",
   "execution_count": 173,
   "id": "a024c65b",
   "metadata": {
    "scrolled": false
   },
   "outputs": [],
   "source": [
    "batch_vector = []\n",
    "loss_vector = []\n",
    "for batch_size_param in np.arange(1, 100, 2):\n",
    "    model = Sequential(Dense(units=1, input_shape=[1], activation='linear'))\n",
    "    model.compile(optimizer='sgd', loss='mse')\n",
    "    batch_vector.append(batch_size_param)\n",
    "    fitted_model = model.fit(xs, ys, epochs=400, batch_size=batch_size_param, verbose=0)\n",
    "    train_loss = model.evaluate(xs, ys, verbose=0)\n",
    "    loss_vector.append(train_loss)"
   ]
  },
  {
   "cell_type": "code",
   "execution_count": 174,
   "id": "369ece37",
   "metadata": {},
   "outputs": [
    {
     "data": {
      "image/png": "[encoded data removed]",
      "text/plain": [
       "<Figure size 432x288 with 1 Axes>"
      ]
     },
     "metadata": {
      "needs_background": "light"
     },
     "output_type": "display_data"
    }
   ],
   "source": [
    "plt.plot(batch_vector, loss_vector)\n",
    "plt.xlabel('Batch size')\n",
    "plt.ylabel('Train loss')\n",
    "plt.title('Loss for different number of batch size')\n",
    "plt.show()"
   ]
  },
  {
   "cell_type": "code",
   "execution_count": 175,
   "id": "40225295",
   "metadata": {},
   "outputs": [
    {
     "data": {
      "image/png": "[encoded data removed]",
      "text/plain": [
       "<Figure size 432x288 with 1 Axes>"
      ]
     },
     "metadata": {
      "needs_background": "light"
     },
     "output_type": "display_data"
    }
   ],
   "source": [
    "plt.plot(batch_vector[:5], loss_vector[:5])\n",
    "plt.xlabel('Batch size')\n",
    "plt.ylabel('Train loss')\n",
    "plt.title('Loss for different number of batch size')\n",
    "plt.show()"
   ]
  },
  {
   "cell_type": "markdown",
   "id": "be7802c8",
   "metadata": {},
   "source": [
    "## Example 2: MNIST data set, classifying handwritten numbers\n",
    "\n",
    "In this example, we will have a look at the [MNIST Database](https://en.wikipedia.org/wiki/MNIST_database) and define, compile, train, evaluate and finally, make predictions using different architectures of Feed Forward NNs and [CNNs or ConvNets](https://en.wikipedia.org/wiki/Convolutional_neural_network).\n",
    "\n",
    "Finally, we will introduce the concept of Early Stopping and how it will help us prevent overfitting our neural nets. Are you ready? Here we go!"
   ]
  },
  {
   "cell_type": "markdown",
   "id": "e9f761f3",
   "metadata": {},
   "source": [
    "As we have discussed in previous examples, we will first load the data and prepare it to be processed, by splitting it into training and test sets. Once, that is done, we will go through the usual 5 steps:\n",
    "1. Model definition\n",
    "1. Compilation\n",
    "1. Training / Data fitting\n",
    "1. Evaluation\n",
    "1. Prediction"
   ]
  },
  {
   "cell_type": "code",
   "execution_count": 176,
   "id": "0cc36ba2",
   "metadata": {},
   "outputs": [],
   "source": [
    "from tensorflow.keras.layers import Flatten, Dense\n",
    "\n",
    "mnist = tf.keras.datasets.mnist\n",
    "(training_images, training_labels), (test_images, test_labels) = mnist.load_data()\n",
    "\n",
    "# Normalize pixel values to be between 0 and 1\n",
    "training_images = training_images / 255.0\n",
    "test_images = test_images / 255.0"
   ]
  },
  {
   "cell_type": "code",
   "execution_count": 177,
   "id": "8db371e7",
   "metadata": {},
   "outputs": [],
   "source": [
    "# Step 1: Model definition\n",
    "nn_model = Sequential([\n",
    "    Flatten(input_shape=(28,28)),\n",
    "    Dense(256, activation='relu'),\n",
    "    Dense(10)\n",
    "])\n",
    "\n",
    "# Step 2: Compilation\n",
    "loss_fn = tf.keras.losses.SparseCategoricalCrossentropy(from_logits=True)\n",
    "nn_model.compile(optimizer='adam', loss=loss_fn, metrics=['accuracy'])"
   ]
  },
  {
   "cell_type": "markdown",
   "id": "e5761378",
   "metadata": {},
   "source": [
    "At this stage we have a fully opperative Neural Network, but given that it has not been trained yet, should expect a prediction accuracy of just around 10%. We can try making some predictions now, to then compare the accuracy in both the training and testing set after fitting."
   ]
  },
  {
   "cell_type": "code",
   "execution_count": 178,
   "id": "d540e74f",
   "metadata": {},
   "outputs": [
    {
     "name": "stdout",
     "output_type": "stream",
     "text": [
      "1875/1875 [==============================] - 1s 247us/step - loss: 2.3971 - accuracy: 0.0858\n",
      "Test Loss: 2.398622512817383, test accuracy: 0.08474999666213989\n"
     ]
    }
   ],
   "source": [
    "train_loss, train_acc = nn_model.evaluate(training_images, training_labels)\n",
    "print(f\"Test Loss: {train_loss}, test accuracy: {train_acc}\")"
   ]
  },
  {
   "cell_type": "code",
   "execution_count": 179,
   "id": "8e602d52",
   "metadata": {
    "scrolled": false
   },
   "outputs": [
    {
     "name": "stdout",
     "output_type": "stream",
     "text": [
      "Epoch 1/10\n",
      "1875/1875 - 1s - loss: 0.2259 - accuracy: 0.9347\n",
      "Epoch 2/10\n",
      "1875/1875 - 1s - loss: 0.0918 - accuracy: 0.9724\n",
      "Epoch 3/10\n",
      "1875/1875 - 1s - loss: 0.0627 - accuracy: 0.9810\n",
      "Epoch 4/10\n",
      "1875/1875 - 1s - loss: 0.0449 - accuracy: 0.9855\n",
      "Epoch 5/10\n",
      "1875/1875 - 1s - loss: 0.0322 - accuracy: 0.9900\n",
      "Epoch 6/10\n",
      "1875/1875 - 1s - loss: 0.0253 - accuracy: 0.9921\n",
      "Epoch 7/10\n",
      "1875/1875 - 1s - loss: 0.0198 - accuracy: 0.9936\n",
      "Epoch 8/10\n",
      "1875/1875 - 1s - loss: 0.0161 - accuracy: 0.9945\n",
      "Epoch 9/10\n",
      "1875/1875 - 1s - loss: 0.0126 - accuracy: 0.9959\n",
      "Epoch 10/10\n",
      "1875/1875 - 1s - loss: 0.0122 - accuracy: 0.9959\n"
     ]
    },
    {
     "data": {
      "text/plain": [
       "<tensorflow.python.keras.callbacks.History at 0x2a854ed90>"
      ]
     },
     "execution_count": 179,
     "metadata": {},
     "output_type": "execute_result"
    }
   ],
   "source": [
    "# Step 3: Fitting\n",
    "nn_model.fit(training_images, training_labels, epochs=10, verbose=2)"
   ]
  },
  {
   "cell_type": "markdown",
   "id": "aacbc421",
   "metadata": {},
   "source": [
    "After training the neural network, we would expect to have a much better accuracy that in the previous \"random\" prediction. Indeed, accuracy of above 95%+ is to be expected!"
   ]
  },
  {
   "cell_type": "code",
   "execution_count": 180,
   "id": "520aad70",
   "metadata": {},
   "outputs": [
    {
     "name": "stdout",
     "output_type": "stream",
     "text": [
      "313/313 [==============================] - 0s 382us/step - loss: 0.0700 - accuracy: 0.9820\n",
      "Test Loss: 0.07004231214523315, test accuracy: 0.9819999933242798\n"
     ]
    }
   ],
   "source": [
    "# Step 4: Evaluation\n",
    "test_loss, test_acc = nn_model.evaluate(test_images, test_labels)\n",
    "print(f\"Test Loss: {test_loss}, test accuracy: {test_acc}\")"
   ]
  },
  {
   "cell_type": "code",
   "execution_count": 181,
   "id": "70a74da6",
   "metadata": {},
   "outputs": [
    {
     "name": "stdout",
     "output_type": "stream",
     "text": [
      "Predicted: 9, result 9\n",
      "Prediction vector: [[1.4306561e-08 1.6760513e-09 4.9567284e-08 2.3817622e-06 2.2613916e-03\n",
      "  2.8900930e-08 1.6114517e-10 1.2703968e-06 4.8028607e-08 9.9773479e-01]]\n"
     ]
    },
    {
     "data": {
      "image/png": "[encoded data removed]",
      "text/plain": [
       "<Figure size 432x288 with 1 Axes>"
      ]
     },
     "metadata": {
      "needs_background": "light"
     },
     "output_type": "display_data"
    }
   ],
   "source": [
    "# Step 5: Prediction\n",
    "probability_model = Sequential([nn_model, tf.keras.layers.Softmax()])\n",
    "image_index = 4444\n",
    "plt.imshow(test_images[image_index].reshape(28, 28),cmap='gray')\n",
    "prediction = probability_model.predict(test_images[image_index].reshape(1, 28, 28, 1))\n",
    "print(f\"Predicted: {np.argmax(prediction)}, result {test_labels[image_index]}\")\n",
    "print(f\"Prediction vector: {prediction}\")"
   ]
  },
  {
   "cell_type": "markdown",
   "id": "9ef50ffb",
   "metadata": {},
   "source": [
    "### Convolutional Neural Networks\n",
    "\n",
    "In the previous example, we used a simple Neural Network to recognise handwritten characters. As we saw, we seem to do fairly well in terms of accuracy. Another alternative to simple NNs for image recognition is to use two techniques, borrowed from biology and to a certain extent, signal recognition, *convolution* and *pooling*. These two will will upgrade our model from a humble Multi-Layer Perceptron to a trendy ConvNet.\n",
    "\n",
    "#### Convolution\n",
    "A convolution layer is the cornerstone of a Convolutional Neural Net. The layer consists of  a set of learnable filters (or kernels), which have a small receptive field, but extend through the full depth of the input volume. During the forward pass, each filter is convolved across the width and height of the input volume, computing the dot product between the filter entries and the input, producing a 2-dimensional activation map of that filter. As a result, the network learns filters that activate when it detects some specific type of feature at some spatial position in the input.\n",
    "\n",
    "#### Pooling\n",
    "Pooling is a form of non-linear downsampling. Pooling allows us to reducing dimensionality (reducing complexity, amount of computation, overfitting, ...) by summarising partitions of the input. For example, in the case of a 2x2 max-pooling layer with a stride of 2, the pixels in a 4x4 matrix will be grouped in 4 smaller partitions of size 2x2, hence discarding 75% of the activations."
   ]
  },
  {
   "cell_type": "code",
   "execution_count": 184,
   "id": "23bae6b8",
   "metadata": {
    "scrolled": false
   },
   "outputs": [
    {
     "name": "stdout",
     "output_type": "stream",
     "text": [
      "Model: \"sequential_384\"\n",
      "_________________________________________________________________\n",
      "Layer (type)                 Output Shape              Param #   \n",
      "=================================================================\n",
      "conv2d_17 (Conv2D)           (None, 26, 26, 32)        320       \n",
      "_________________________________________________________________\n",
      "max_pooling2d_11 (MaxPooling (None, 13, 13, 32)        0         \n",
      "_________________________________________________________________\n",
      "conv2d_18 (Conv2D)           (None, 11, 11, 64)        18496     \n",
      "_________________________________________________________________\n",
      "max_pooling2d_12 (MaxPooling (None, 5, 5, 64)          0         \n",
      "_________________________________________________________________\n",
      "conv2d_19 (Conv2D)           (None, 3, 3, 64)          36928     \n",
      "_________________________________________________________________\n",
      "flatten_116 (Flatten)        (None, 576)               0         \n",
      "_________________________________________________________________\n",
      "dense_483 (Dense)            (None, 64)                36928     \n",
      "_________________________________________________________________\n",
      "dense_484 (Dense)            (None, 10)                650       \n",
      "=================================================================\n",
      "Total params: 93,322\n",
      "Trainable params: 93,322\n",
      "Non-trainable params: 0\n",
      "_________________________________________________________________\n",
      "None\n",
      "Epoch 1/10\n",
      "1875/1875 - 9s - loss: 0.1552 - accuracy: 0.9519\n",
      "Epoch 2/10\n",
      "1875/1875 - 9s - loss: 0.0477 - accuracy: 0.9851\n",
      "Epoch 3/10\n",
      "1875/1875 - 9s - loss: 0.0336 - accuracy: 0.9894\n",
      "Epoch 4/10\n",
      "1875/1875 - 9s - loss: 0.0259 - accuracy: 0.9918\n",
      "Epoch 5/10\n",
      "1875/1875 - 9s - loss: 0.0211 - accuracy: 0.9933\n",
      "Epoch 6/10\n",
      "1875/1875 - 9s - loss: 0.0167 - accuracy: 0.9946\n",
      "Epoch 7/10\n",
      "1875/1875 - 9s - loss: 0.0132 - accuracy: 0.9956\n",
      "Epoch 8/10\n",
      "1875/1875 - 10s - loss: 0.0122 - accuracy: 0.9959\n",
      "Epoch 9/10\n",
      "1875/1875 - 9s - loss: 0.0097 - accuracy: 0.9968\n",
      "Epoch 10/10\n",
      "1875/1875 - 9s - loss: 0.0088 - accuracy: 0.9972\n",
      "313/313 [==============================] - 1s 1ms/step - loss: 0.0377 - accuracy: 0.9898\n",
      "Test Loss: 0.03774910420179367, test accuracy: 0.989799976348877\n"
     ]
    }
   ],
   "source": [
    "from tensorflow.keras.layers import Conv2D, MaxPooling2D, Flatten, Dense\n",
    "\n",
    "training_images_reshaped = training_images.reshape(training_images.shape[0], 28, 28, 1)\n",
    "test_images_reshaped = test_images.reshape(test_images.shape[0], 28, 28, 1)\n",
    "input_shape = (28, 28, 1)\n",
    "\n",
    "cnn_model = Sequential()\n",
    "cnn_model.add(Conv2D(32, (3, 3), activation='relu', input_shape=(28, 28, 1)))\n",
    "cnn_model.add(MaxPooling2D((2, 2)))\n",
    "cnn_model.add(Conv2D(64, (3, 3), activation='relu'))\n",
    "cnn_model.add(MaxPooling2D((2, 2)))\n",
    "cnn_model.add(Conv2D(64, (3, 3), activation='relu'))\n",
    "cnn_model.add(Flatten())\n",
    "cnn_model.add(Dense(64, activation='relu'))\n",
    "cnn_model.add(Dense(10))\n",
    "\n",
    "print(cnn_model.summary())\n",
    "\n",
    "loss_fn = tf.keras.losses.SparseCategoricalCrossentropy(from_logits=True)\n",
    "cnn_model.compile(optimizer='adam', loss=loss_fn, metrics=['accuracy'])\n",
    "cnn_model.fit(training_images_reshaped, training_labels, epochs=10, verbose=2)\n",
    "test_loss, test_acc = cnn_model.evaluate(test_images_reshaped, test_labels)\n",
    "print(f\"Test Loss: {test_loss}, test accuracy: {test_acc}\")"
   ]
  },
  {
   "cell_type": "code",
   "execution_count": 183,
   "id": "30fca829",
   "metadata": {
    "scrolled": false
   },
   "outputs": [
    {
     "name": "stdout",
     "output_type": "stream",
     "text": [
      "Predicted: 9, result 9\n",
      "Prediction vector: [[1.1563310e-09 5.0442005e-11 1.6174324e-10 3.9292686e-10 1.9350280e-05\n",
      "  3.6754395e-11 2.0179853e-11 1.5409244e-08 9.9527006e-07 9.9997962e-01]]\n"
     ]
    },
    {
     "data": {
      "image/png": "[encoded data removed]",
      "text/plain": [
       "<Figure size 432x288 with 1 Axes>"
      ]
     },
     "metadata": {
      "needs_background": "light"
     },
     "output_type": "display_data"
    }
   ],
   "source": [
    "probability_model = Sequential([cnn_model, tf.keras.layers.Softmax()])\n",
    "image_index = 4444\n",
    "plt.imshow(test_images[image_index].reshape(28, 28),cmap='gray')\n",
    "prediction = probability_model.predict(test_images[image_index].reshape(1, 28, 28, 1))\n",
    "print(f\"Predicted: {np.argmax(prediction)}, result {test_labels[image_index]}\")\n",
    "print(f\"Prediction vector: {prediction}\")"
   ]
  },
  {
   "cell_type": "markdown",
   "id": "f0450496",
   "metadata": {},
   "source": [
    "### Early stopping in training\n"
   ]
  },
  {
   "cell_type": "code",
   "execution_count": 185,
   "id": "f0d971ba",
   "metadata": {},
   "outputs": [
    {
     "name": "stdout",
     "output_type": "stream",
     "text": [
      "Training for 1 epochs\n",
      "1875/1875 [==============================] - 1s 236us/step - loss: 0.1041 - accuracy: 0.9699\n",
      "313/313 [==============================] - 0s 361us/step - loss: 0.1145 - accuracy: 0.9664\n",
      "Training for 2 epochs\n",
      "1875/1875 [==============================] - 0s 233us/step - loss: 0.0597 - accuracy: 0.9812\n",
      "313/313 [==============================] - 0s 359us/step - loss: 0.0842 - accuracy: 0.9743\n",
      "Training for 3 epochs\n",
      "1875/1875 [==============================] - 1s 250us/step - loss: 0.0419 - accuracy: 0.9874\n",
      "313/313 [==============================] - 0s 386us/step - loss: 0.0738 - accuracy: 0.9760\n",
      "Training for 4 epochs\n",
      "1875/1875 [==============================] - 0s 235us/step - loss: 0.0297 - accuracy: 0.9915\n",
      "313/313 [==============================] - 0s 364us/step - loss: 0.0684 - accuracy: 0.9795\n",
      "Training for 5 epochs\n",
      "1875/1875 [==============================] - 0s 230us/step - loss: 0.0198 - accuracy: 0.9943\n",
      "313/313 [==============================] - 0s 360us/step - loss: 0.0616 - accuracy: 0.9803\n",
      "Training for 6 epochs\n",
      "1875/1875 [==============================] - 0s 238us/step - loss: 0.0165 - accuracy: 0.9948\n",
      "313/313 [==============================] - 0s 358us/step - loss: 0.0636 - accuracy: 0.9805\n",
      "Training for 7 epochs\n",
      "1875/1875 [==============================] - 1s 256us/step - loss: 0.0137 - accuracy: 0.9961\n",
      "313/313 [==============================] - 0s 378us/step - loss: 0.0672 - accuracy: 0.9822\n",
      "Training for 8 epochs\n",
      "1875/1875 [==============================] - 0s 235us/step - loss: 0.0125 - accuracy: 0.9964\n",
      "313/313 [==============================] - 0s 358us/step - loss: 0.0770 - accuracy: 0.9796\n",
      "Training for 9 epochs\n",
      "1875/1875 [==============================] - 1s 248us/step - loss: 0.0149 - accuracy: 0.9951\n",
      "313/313 [==============================] - 0s 371us/step - loss: 0.0959 - accuracy: 0.9754\n",
      "Training for 10 epochs\n",
      "1875/1875 [==============================] - 0s 240us/step - loss: 0.0146 - accuracy: 0.9950\n",
      "313/313 [==============================] - 0s 371us/step - loss: 0.0843 - accuracy: 0.9787\n",
      "Training for 11 epochs\n",
      "1875/1875 [==============================] - 1s 246us/step - loss: 0.0126 - accuracy: 0.9959\n",
      "313/313 [==============================] - 0s 371us/step - loss: 0.0876 - accuracy: 0.9770\n",
      "Training for 12 epochs\n",
      "1875/1875 [==============================] - 0s 241us/step - loss: 0.0039 - accuracy: 0.9990\n",
      "313/313 [==============================] - 0s 367us/step - loss: 0.0723 - accuracy: 0.9820\n",
      "Training for 13 epochs\n",
      "1875/1875 [==============================] - 0s 241us/step - loss: 0.0122 - accuracy: 0.9957\n",
      "313/313 [==============================] - 0s 368us/step - loss: 0.0970 - accuracy: 0.9776\n",
      "Training for 14 epochs\n",
      "1875/1875 [==============================] - 0s 240us/step - loss: 0.0133 - accuracy: 0.9951\n",
      "313/313 [==============================] - 0s 375us/step - loss: 0.1065 - accuracy: 0.9786\n",
      "Training for 15 epochs\n",
      "1875/1875 [==============================] - 1s 265us/step - loss: 0.0060 - accuracy: 0.9979\n",
      "313/313 [==============================] - 0s 466us/step - loss: 0.1033 - accuracy: 0.9794\n",
      "Training for 16 epochs\n",
      "1875/1875 [==============================] - 1s 258us/step - loss: 0.0057 - accuracy: 0.9982\n",
      "313/313 [==============================] - 0s 394us/step - loss: 0.1046 - accuracy: 0.9790\n",
      "Training for 17 epochs\n",
      "1875/1875 [==============================] - 1s 250us/step - loss: 0.0047 - accuracy: 0.9984\n",
      "313/313 [==============================] - 0s 378us/step - loss: 0.1201 - accuracy: 0.9788\n",
      "Training for 18 epochs\n",
      "1875/1875 [==============================] - 0s 239us/step - loss: 0.0044 - accuracy: 0.9984\n",
      "313/313 [==============================] - 0s 376us/step - loss: 0.0986 - accuracy: 0.9807\n",
      "Training for 19 epochs\n",
      "1875/1875 [==============================] - 1s 257us/step - loss: 0.0036 - accuracy: 0.9988\n",
      "313/313 [==============================] - 0s 368us/step - loss: 0.1145 - accuracy: 0.9803\n",
      "Training for 20 epochs\n",
      "1875/1875 [==============================] - 1s 252us/step - loss: 0.0048 - accuracy: 0.9983\n",
      "313/313 [==============================] - 0s 368us/step - loss: 0.1012 - accuracy: 0.9811\n",
      "Training for 21 epochs\n",
      "1875/1875 [==============================] - 1s 258us/step - loss: 0.0106 - accuracy: 0.9966\n",
      "313/313 [==============================] - 0s 411us/step - loss: 0.1174 - accuracy: 0.9793\n",
      "Training for 22 epochs\n",
      "1875/1875 [==============================] - 0s 243us/step - loss: 0.0024 - accuracy: 0.9993\n",
      "313/313 [==============================] - 0s 378us/step - loss: 0.1076 - accuracy: 0.9806\n",
      "Training for 23 epochs\n",
      "1875/1875 [==============================] - 1s 246us/step - loss: 0.0022 - accuracy: 0.9992\n",
      "313/313 [==============================] - 0s 377us/step - loss: 0.1131 - accuracy: 0.9789\n",
      "Training for 24 epochs\n",
      "1875/1875 [==============================] - 1s 264us/step - loss: 0.0052 - accuracy: 0.9985\n",
      "313/313 [==============================] - 0s 370us/step - loss: 0.1119 - accuracy: 0.9800\n"
     ]
    },
    {
     "data": {
      "image/png": "[encoded data removed]",
      "text/plain": [
       "<Figure size 432x288 with 1 Axes>"
      ]
     },
     "metadata": {
      "needs_background": "light"
     },
     "output_type": "display_data"
    }
   ],
   "source": [
    "epoch_vector = []\n",
    "train_acc_vector = []\n",
    "test_acc_vector = []\n",
    "\n",
    "def get_basic_model():\n",
    "    basic_model = Sequential([\n",
    "        Flatten(input_shape=(28, 28)), \n",
    "        Dense(256, activation='relu'), \n",
    "        Dense(10)\n",
    "    ])\n",
    "    return basic_model\n",
    "\n",
    "loss_fn = tf.keras.losses.SparseCategoricalCrossentropy(from_logits=True)\n",
    "\n",
    "for epochs_param in np.arange(1, 25, 1):\n",
    "    print(f\"Training for {epochs_param} epochs\")\n",
    "    model = get_basic_model()\n",
    "    model.compile(optimizer='adam', loss=loss_fn, metrics=['accuracy'])\n",
    "    model.fit(training_images, training_labels, epochs=tf.constant(epochs_param), verbose=0)\n",
    "    train_loss, train_acc = model.evaluate(training_images, training_labels)\n",
    "    test_loss, test_acc = model.evaluate(test_images, test_labels)\n",
    "    epoch_vector.append(epochs_param)\n",
    "    train_acc_vector.append(train_acc)\n",
    "    test_acc_vector.append(test_acc)\n",
    "\n",
    "plt.plot(epoch_vector, train_acc_vector, label=\"Training Accuracy\")\n",
    "plt.plot(epoch_vector, test_acc_vector, label=\"Test Accuracy\")\n",
    "plt.xlabel('Nb of epochs')\n",
    "plt.ylabel('Train and test losses')\n",
    "plt.title('Accuracy for different number of epochs')\n",
    "plt.legend()\n",
    "plt.show()"
   ]
  },
  {
   "cell_type": "markdown",
   "id": "62545e81",
   "metadata": {},
   "source": [
    "#### Implementing Early Stop with Callbacks\n"
   ]
  },
  {
   "cell_type": "code",
   "execution_count": 186,
   "id": "9151e23e",
   "metadata": {},
   "outputs": [
    {
     "name": "stdout",
     "output_type": "stream",
     "text": [
      "Epoch 1/10\n",
      "1875/1875 - 1s - loss: 0.2331 - accuracy: 0.9324\n",
      "{'loss': 0.23307116329669952, 'accuracy': 0.9323833584785461}\n",
      "Epoch 2/10\n",
      "1875/1875 - 1s - loss: 0.0935 - accuracy: 0.9723\n",
      "{'loss': 0.09354425966739655, 'accuracy': 0.9723166823387146}\n",
      "Epoch 3/10\n",
      "1875/1875 - 1s - loss: 0.0621 - accuracy: 0.9809\n",
      "{'loss': 0.06210039556026459, 'accuracy': 0.98089998960495}\n",
      "Epoch 4/10\n",
      "1875/1875 - 1s - loss: 0.0444 - accuracy: 0.9861\n",
      "{'loss': 0.044377394020557404, 'accuracy': 0.986050009727478}\n",
      "Epoch 5/10\n",
      "1875/1875 - 1s - loss: 0.0332 - accuracy: 0.9891\n",
      "{'loss': 0.03324302285909653, 'accuracy': 0.9891499876976013}\n",
      "Epoch 6/10\n",
      "1875/1875 - 1s - loss: 0.0245 - accuracy: 0.9924\n",
      "{'loss': 0.024505577981472015, 'accuracy': 0.9923666715621948}\n",
      "Epoch 7/10\n",
      "1875/1875 - 1s - loss: 0.0201 - accuracy: 0.9936\n",
      "{'loss': 0.02011692523956299, 'accuracy': 0.9936000108718872}\n",
      "Epoch 8/10\n",
      "1875/1875 - 1s - loss: 0.0153 - accuracy: 0.9952\n",
      "{'loss': 0.015308535657823086, 'accuracy': 0.9951666593551636}\n",
      "\n",
      "Reached 99.5% accuracy, stopping training!\n",
      "313/313 [==============================] - 0s 266us/step - loss: 0.0728 - accuracy: 0.9797\n",
      "Test Loss: 0.072838194668293, test accuracy: 0.9797000288963318\n"
     ]
    }
   ],
   "source": [
    "from tensorflow.keras.callbacks import Callback\n",
    "\n",
    "ACCURACY_THRESHOLD = 0.99\n",
    "\n",
    "class AccuracyStopCallback(Callback):\n",
    "\n",
    "    def on_epoch_end(self, epoch, logs={}):\n",
    "        if(logs.get('accuracy', 0) > ACCURACY_THRESHOLD):\n",
    "            print(f\"\\nReached {ACCURACY_THRESHOLD * 100}% accuracy, stopping training!\")\n",
    "            self.model.stop_training = True\n",
    "        return\n",
    "\n",
    "callback = AccuracyStopCallback()\n",
    "basic_model = get_basic_model()\n",
    "basic_model.compile(optimizer='adam', loss=loss_fn, metrics=['accuracy'])\n",
    "basic_model.fit(training_images, training_labels, epochs=10, callbacks=[callbacks], verbose=2)\n",
    "test_loss, test_acc = basic_model.evaluate(test_images, test_labels)\n",
    "print(f\"Test Loss: {test_loss}, test accuracy: {test_acc}\")"
   ]
  },
  {
   "cell_type": "markdown",
   "id": "58ed097d",
   "metadata": {},
   "source": [
    "## Conclusions\n",
    "\n",
    "In this post we have had our first introduction to TensorFlow and we have built our first models to predict housing prices and to classify digits in images from the well-known MNIST dataset.\n",
    "\n",
    "We have established our 5-steps framework to define a new architecture from scratch, to compile it, providing an optimizer and a loss function; we have then fitted the NN to the training set data and finally checked the performance of the model and made some predictions. We have also checked the impact of certain metaparameters, as the number of epochs or the batch size. \n",
    "\n",
    "We have presented 2 different architectures for classificating images and had our first interaction with Conv2D and Pooling layers (we will spend more time on those in coming posts).\n",
    "\n",
    "Finally, we have introduced the concept of Early Stopping, a simple way of preventing our neural network to overfit the training data and to speed up the fitting process. "
   ]
  }
 ],
 "metadata": {
  "kernelspec": {
   "display_name": "Python 3",
   "language": "python",
   "name": "python3"
  },
  "language_info": {
   "codemirror_mode": {
    "name": "ipython",
    "version": 3
   },
   "file_extension": ".py",
   "mimetype": "text/x-python",
   "name": "python",
   "nbconvert_exporter": "python",
   "pygments_lexer": "ipython3",
   "version": "3.8.8"
  }
 },
 "nbformat": 4,
 "nbformat_minor": 5
}
